{
  "cells": [
    {
      "cell_type": "markdown",
      "metadata": {
        "id": "5HExLQrE4ZxR"
      },
      "source": [
        "<h1><font color='blue'> 8E and 8F: Finding the Probability P(Y==1|X)</font></h1>"
      ]
    },
    {
      "cell_type": "markdown",
      "metadata": {
        "id": "4LuKrFzC4ZxV"
      },
      "source": [
        "<h2><font color='Geen'> 8E: Implementing Decision Function of SVM RBF Kernel</font></h2>"
      ]
    },
    {
      "cell_type": "markdown",
      "metadata": {
        "id": "1wES-wWN4ZxX"
      },
      "source": [
        "<font>After we train a kernel SVM model, we will be getting support vectors and their corresponsing coefficients $\\alpha_{i}$\n",
        "\n",
        "Check the documentation for better understanding of these attributes: \n",
        "\n",
        "https://scikit-learn.org/stable/modules/generated/sklearn.svm.SVC.html\n",
        "<img src='https://i.imgur.com/K11msU4.png' width=800>\n",
        "\n",
        "As a part of this assignment you will be implementing the ```decision_function()``` of kernel SVM, here decision_function() means based on the value return by ```decision_function()``` model will classify the data point either as positive or negative\n",
        "\n",
        "Ex 1: In logistic regression After traning the models with the optimal weights $w$ we get, we will find the value $\\frac{1}{1+\\exp(-(wx+b))}$, if this value comes out to be < 0.5 we will mark it as negative class, else its positive class\n",
        "\n",
        "Ex 2: In Linear SVM After traning the models with the optimal weights $w$ we get, we will find the value of $sign(wx+b)$, if this value comes out to be -ve we will mark it as negative class, else its positive class.\n",
        "\n",
        "Similarly in Kernel SVM After traning the models with the coefficients $\\alpha_{i}$ we get, we will find the value of \n",
        "$sign(\\sum_{i=1}^{n}(y_{i}\\alpha_{i}K(x_{i},x_{q})) + intercept)$, here $K(x_{i},x_{q})$ is the RBF kernel. If this value comes out to be -ve we will mark $x_{q}$ as negative class, else its positive class.\n",
        "\n",
        "RBF kernel is defined as: $K(x_{i},x_{q})$ = $exp(-\\gamma ||x_{i} - x_{q}||^2)$\n",
        "\n",
        "For better understanding check this link: https://scikit-learn.org/stable/modules/svm.html#svm-mathematical-formulation\n",
        "</font>"
      ]
    },
    {
      "cell_type": "markdown",
      "metadata": {
        "id": "z830CfMk4Zxa"
      },
      "source": [
        "## Task E"
      ]
    },
    {
      "cell_type": "markdown",
      "metadata": {
        "id": "MuBxHiCQ4Zxc"
      },
      "source": [
        "> 1. Split the data into $X_{train}$(60), $X_{cv}$(20), $X_{test}$(20)\n",
        "\n",
        "> 2. Train $SVC(gamma=0.001, C=100.)$ on the ($X_{train}$, $y_{train}$)\n",
        "\n",
        "> 3. Get the decision boundry values $f_{cv}$ on the $X_{cv}$ data  i.e. ` `$f_{cv}$ ```= decision_function(```$X_{cv}$```)```  <font color='red'>you need to implement this decision_function()</font>"
      ]
    },
    {
      "cell_type": "code",
      "execution_count": 34,
      "metadata": {
        "id": "fCgMNEvI4Zxf"
      },
      "outputs": [],
      "source": [
        "import numpy as np\n",
        "import pandas as pd\n",
        "from sklearn.datasets import make_classification\n",
        "import numpy as np\n",
        "from sklearn.svm import SVC\n",
        "from sklearn.model_selection import train_test_split"
      ]
    },
    {
      "cell_type": "code",
      "execution_count": 35,
      "metadata": {
        "id": "ANUNIqCe4Zxn"
      },
      "outputs": [],
      "source": [
        "X, y = make_classification(n_samples=5000, n_features=5, n_redundant=2,\n",
        "                           n_classes=2, weights=[0.7], class_sep=0.7, random_state=15)"
      ]
    },
    {
      "cell_type": "code",
      "execution_count": 36,
      "metadata": {
        "id": "58Pbn_oYzAOH"
      },
      "outputs": [],
      "source": [
        "x_train, x_test, y_train, y_test = train_test_split(X, y, test_size=0.20,random_state=15)"
      ]
    },
    {
      "cell_type": "code",
      "execution_count": 37,
      "metadata": {
        "id": "mcuubiSs0Mba"
      },
      "outputs": [],
      "source": [
        "x_train, x_cv, y_train, y_cv = train_test_split(x_train,y_train, test_size=0.25,random_state=15)"
      ]
    },
    {
      "cell_type": "code",
      "execution_count": 38,
      "metadata": {
        "id": "sxXBGX8m0hEG"
      },
      "outputs": [],
      "source": [
        "rbf=SVC(kernel=\"rbf\",C=100,gamma=0.001) # svc classifier with rbf kernel"
      ]
    },
    {
      "cell_type": "code",
      "execution_count": 39,
      "metadata": {
        "colab": {
          "base_uri": "https://localhost:8080/",
          "height": 0
        },
        "id": "E2ZL71Ef0np0",
        "outputId": "439718dd-b2fa-4475-be5c-fc6faaec8687"
      },
      "outputs": [
        {
          "output_type": "execute_result",
          "data": {
            "text/plain": [
              "SVC(C=100, gamma=0.001)"
            ]
          },
          "metadata": {},
          "execution_count": 39
        }
      ],
      "source": [
        "rbf.fit(x_train,y_train)"
      ]
    },
    {
      "cell_type": "code",
      "execution_count": 40,
      "metadata": {
        "id": "7XBSMzYr00qY"
      },
      "outputs": [],
      "source": [
        "sup_vecs=rbf.support_vectors_\n",
        "dual_coefs=rbf.dual_coef_\n",
        "intercept=rbf.intercept_"
      ]
    },
    {
      "cell_type": "markdown",
      "metadata": {
        "id": "tHie1zqH4Zxt"
      },
      "source": [
        "### Pseudo code\n",
        "\n",
        "clf = SVC(gamma=0.001, C=100.)<br>\n",
        "clf.fit(Xtrain, ytrain)\n",
        "\n",
        "<font color='green'>def</font> <font color='blue'>decision_function</font>(Xcv, ...): #use appropriate parameters <br>\n",
        "&nbsp;&nbsp;&nbsp;&nbsp;&nbsp;&nbsp;<font color='green'>for</font> a data point $x_q$ <font color='green'>in</font> Xcv: <br>\n",
        "&nbsp;&nbsp;&nbsp;&nbsp;&nbsp;&nbsp;&nbsp;&nbsp;&nbsp;&nbsp;&nbsp;&nbsp;<font color='grey'>#write code to implement $(\\sum_{i=1}^{\\text{all the support vectors}}(y_{i}\\alpha_{i}K(x_{i},x_{q})) + intercept)$, here the values $y_i$, $\\alpha_{i}$, and $intercept$ can be obtained from the trained model</font><br>\n",
        "   <font color='green'>return</font> <font color='grey'><i># the decision_function output for all the data points in the Xcv</i></font>\n",
        "    \n",
        "fcv = decision_function(Xcv, ...)  <i># based on your requirement you can pass any other parameters </i>\n",
        "\n",
        "<b>Note</b>: Make sure the values you get as fcv, should be equal to outputs of clf.decision_function(Xcv)\n"
      ]
    },
    {
      "cell_type": "code",
      "execution_count": 89,
      "metadata": {
        "id": "h43kDT3M41u5"
      },
      "outputs": [],
      "source": [
        "#https://stackoverflow.com/questions/28503932/calculating-decision-function-of-svm-manually\n",
        "def decision_function(x_cv,gamma):\n",
        "    predict=[]\n",
        "    decision=[]\n",
        "    for xq in x_cv:\n",
        "        dec_func = 0\n",
        "        for j in range(len(sup_vecs)):\n",
        "            norm2 = np.linalg.norm(sup_vecs[j, :] -xq)**2  # calculating the kernel K(xi,xq)\n",
        "            dec_func = dec_func + dual_coefs[0, j] * np.exp(-gamma*norm2)  # calculating the sign\n",
        "        dec_func += intercept\n",
        "        decision.append(dec_func)\n",
        "        if (dec_func)<0:\n",
        "           predict.append(0)\n",
        "        else:\n",
        "          predict.append(1)\n",
        "    return np.array(predict),decision        "
      ]
    },
    {
      "cell_type": "code",
      "execution_count": 90,
      "metadata": {
        "colab": {
          "base_uri": "https://localhost:8080/",
          "height": 0
        },
        "id": "wLkeIlrk2Zwm",
        "outputId": "83473aa4-ae1b-4151-99d6-b19c89ce8f8e"
      },
      "outputs": [
        {
          "output_type": "stream",
          "name": "stdout",
          "text": [
            "[1 0 0 0 0 0 0 0 1 0 1 0 1 1 0 1 1 1 0 0 1 0 1 0 0 0 0 0 0 0 0 0 0 0 0 0 1\n",
            " 0 0 0 1 0 0 1 1 0 0 0 0 0 0 0 0 1 0 0 0 0 0 1 0 1 0 0 0 1 0 1 0 0 0 0 0 1\n",
            " 0 0 0 0 0 0 1 0 0 0 0 0 0 0 0 0 0 0 0 1 0 0 1 0 1 0 0 0 0 0 0 0 0 0 1 1 0\n",
            " 0 0 0 0 0 0 1 0 0 1 0 1 1 0 0 0 1 1 0 1 0 0 0 1 0 0 0 0 1 1 0 0 1 1 0 0 0\n",
            " 1 0 1 0 0 1 0 0 0 0 0 0 0 0 0 1 0 0 1 0 0 0 1 1 0 0 0 1 0 0 0 0 0 0 0 0 0\n",
            " 0 0 0 0 0 0 1 0 1 0 0 0 0 0 0 0 1 0 0 0 0 0 0 0 0 0 1 0 0 1 0 0 0 0 0 1 0\n",
            " 0 0 0 0 1 0 1 0 0 0 0 0 1 1 0 0 0 0 0 0 0 0 0 0 0 0 1 0 0 1 0 0 1 1 0 0 1\n",
            " 1 1 0 0 0 1 1 0 0 0 1 1 0 0 0 0 0 0 0 0 0 0 1 0 1 0 1 0 0 0 0 0 0 0 0 0 1\n",
            " 1 0 1 0 0 1 1 0 0 0 0 0 0 0 0 0 0 0 0 0 0 0 1 0 1 0 0 1 0 1 0 1 0 0 0 0 1\n",
            " 0 0 0 0 0 0 0 0 0 1 1 1 0 1 0 0 1 0 0 1 1 0 0 1 1 0 1 0 0 1 1 1 0 0 0 0 0\n",
            " 1 1 0 0 0 0 0 0 0 1 0 0 0 1 1 1 0 0 0 0 1 0 0 0 0 0 1 0 0 0 1 0 0 0 0 0 0\n",
            " 0 0 1 0 0 0 1 1 0 1 0 0 1 0 0 0 0 0 1 0 0 0 0 0 0 0 0 0 1 1 0 0 0 1 1 1 0\n",
            " 1 1 0 0 0 1 0 0 0 0 0 1 0 0 0 0 1 0 0 0 1 0 0 0 0 0 1 0 1 0 0 0 0 0 0 1 0\n",
            " 1 0 0 0 0 1 0 0 1 0 0 0 0 1 0 0 0 0 1 0 0 1 1 1 0 1 0 1 0 1 1 1 1 0 1 1 1\n",
            " 0 0 0 0 0 1 1 0 0 0 0 0 0 0 1 0 0 0 1 0 1 1 0 1 0 1 0 0 0 0 0 0 0 0 0 0 0\n",
            " 1 0 0 1 1 1 0 1 0 1 0 0 0 1 1 1 1 1 0 1 1 0 0 1 1 1 0 0 0 0 0 1 1 0 0 1 0\n",
            " 0 0 1 0 1 1 0 0 0 1 1 0 0 0 0 0 1 0 0 0 0 0 1 1 1 0 0 0 0 0 0 0 1 0 0 0 1\n",
            " 0 0 1 1 0 0 0 0 0 1 1 1 1 1 0 0 0 0 0 0 0 0 0 1 0 0 1 1 1 0 0 1 0 1 1 0 1\n",
            " 0 1 0 0 0 1 0 1 1 0 0 0 0 1 1 1 0 0 0 0 0 0 0 0 1 1 0 1 1 0 0 0 0 0 0 0 1\n",
            " 0 0 0 0 1 0 0 0 0 0 0 0 0 1 0 0 1 0 0 0 0 1 0 0 0 1 1 0 0 1 0 0 1 0 0 0 1\n",
            " 0 0 1 0 0 0 0 1 1 1 0 0 0 1 0 1 1 0 1 1 0 0 0 0 0 1 0 0 0 0 0 1 1 1 0 1 0\n",
            " 0 0 0 1 1 1 0 0 0 0 0 1 0 0 0 0 1 0 0 0 1 0 0 1 1 0 0 0 0 1 0 0 0 1 0 0 1\n",
            " 0 0 1 1 0 0 0 0 0 0 0 0 0 0 0 0 1 1 0 0 0 0 1 0 1 0 0 0 0 0 0 1 1 0 0 0 0\n",
            " 0 0 0 0 0 0 1 0 1 1 0 0 0 0 0 0 1 0 0 0 1 0 0 0 0 0 0 0 0 0 0 0 1 0 0 1 0\n",
            " 0 1 0 0 0 1 0 0 0 0 0 0 0 1 0 0 1 0 0 0 0 0 0 0 0 1 1 1 0 1 0 0 0 0 0 0 0\n",
            " 0 0 0 0 0 0 1 0 0 0 1 0 1 0 0 0 1 0 0 0 1 0 0 0 0 0 1 0 0 0 0 1 1 0 0 1 0\n",
            " 0 0 0 0 0 0 0 0 0 1 0 0 0 1 0 0 0 1 1 1 0 1 0 1 0 0 1 1 0 0 0 1 0 0 0 1 1\n",
            " 0]\n"
          ]
        }
      ],
      "source": [
        "gamma=0.001\n",
        "f_cv,decision=decision_function(x_cv,gamma)\n",
        "print(f_cv)"
      ]
    },
    {
      "cell_type": "code",
      "execution_count": 91,
      "metadata": {
        "colab": {
          "base_uri": "https://localhost:8080/",
          "height": 0
        },
        "id": "U8DXKvbh22Ui",
        "outputId": "1f99051e-3581-4efa-806d-c52f8a32cf49"
      },
      "outputs": [
        {
          "output_type": "stream",
          "name": "stdout",
          "text": [
            "[[ 9.78553590e-01 -1.11760405e+00 -2.04720532e+00 -3.09565428e+00\n",
            "  -2.79889732e+00 -3.19223178e+00 -3.06506013e+00 -2.65326082e+00\n",
            "   3.33031294e+00 -1.27804286e+00  1.23713395e+00 -2.26620102e+00\n",
            "   1.15545642e+00  1.55336237e+00 -3.18756150e-01  1.20293177e+00\n",
            "   1.88290414e+00  1.19637781e+00 -2.78451489e-01 -2.12325762e+00\n",
            "   1.96221487e+00 -4.75759780e-01  1.08589552e+00 -2.55752818e+00\n",
            "  -2.89278575e+00 -2.43600679e+00 -3.82456176e+00 -2.45783486e+00\n",
            "  -2.27106674e+00 -1.23683699e+00 -1.16338685e+00 -2.10126553e+00\n",
            "  -1.80723683e+00 -2.97522570e+00 -1.78272899e+00 -2.57605838e+00\n",
            "   1.08577450e+00 -1.38072948e-01 -2.30545739e+00 -2.29909830e+00\n",
            "   7.42068597e-01 -2.97019249e+00 -2.90071729e+00  1.41309686e+00\n",
            "   2.78861618e+00 -1.89767766e+00 -1.98425643e+00 -1.45561992e+00\n",
            "  -2.89596097e+00 -2.67027549e+00 -2.39828370e+00 -3.04643574e+00\n",
            "  -1.56860504e+00  3.60540603e-01 -1.74975096e+00 -1.77366133e+00\n",
            "  -2.78686913e+00 -2.13619233e+00 -1.90398564e+00  1.33960705e+00\n",
            "  -3.24020418e+00  8.97308121e-01 -2.21557816e+00 -2.99426446e+00\n",
            "  -4.94047716e-02  1.59483473e+00 -1.83496676e+00  7.95082106e-02\n",
            "  -2.79323852e+00 -3.98279565e+00 -1.79837344e+00 -2.00613380e+00\n",
            "  -1.97130396e+00  2.07687621e+00 -2.41070545e+00 -1.65161037e+00\n",
            "  -3.07902438e+00 -3.17027645e-01 -2.85843081e+00 -4.65434071e+00\n",
            "   5.51521648e-01 -4.49305200e+00 -3.76755323e+00 -8.63617712e-01\n",
            "  -1.60777008e+00 -3.16398958e+00 -3.78415750e+00 -1.08713016e+00\n",
            "  -2.21569698e+00 -2.69281638e+00 -4.39129734e+00 -2.58718677e+00\n",
            "  -1.94996291e+00  9.55121457e-01 -2.25689728e+00 -1.79146566e+00\n",
            "   1.46475046e+00 -1.61124209e+00  1.09078368e-01 -2.00541103e+00\n",
            "  -9.96893289e-01 -2.70779082e+00 -1.76887567e+00 -3.78126963e+00\n",
            "  -2.82995150e+00 -1.38797363e+00 -1.85961356e+00 -3.64882982e+00\n",
            "   2.54385614e+00  1.68983589e+00 -2.43212936e+00 -1.40083552e+00\n",
            "  -7.43796022e-01 -4.27483365e+00 -2.51198025e+00 -3.07676558e-01\n",
            "  -2.55917854e+00  1.74299350e+00 -2.88922226e+00 -3.41397052e+00\n",
            "   5.16065245e-01 -1.00630919e+00  1.54105178e+00  1.93021728e+00\n",
            "  -2.75067087e+00 -1.71170224e+00 -3.86017913e-01  3.28147869e-01\n",
            "   1.55476940e+00 -2.41901755e+00  2.43495429e+00 -6.92820420e-01\n",
            "  -1.86825933e+00 -1.29327697e+00  1.58473334e+00 -3.64073602e+00\n",
            "  -3.83519908e-01 -1.17292273e+00 -2.58480286e+00  1.72842330e+00\n",
            "   1.25061440e+00 -2.85785061e+00 -2.38553121e+00  2.32235330e+00\n",
            "   2.10194986e+00 -3.44510618e+00 -2.92868489e-01 -3.23908167e+00\n",
            "   1.55751513e+00 -2.47843205e+00  2.18001557e+00 -1.20165501e+00\n",
            "  -4.01948985e-01  1.78028779e+00 -3.27550034e+00 -3.06912256e+00\n",
            "  -3.52004623e+00 -2.48539060e+00 -2.93959754e+00 -4.77021920e-01\n",
            "  -2.59316966e+00 -2.90351656e+00 -1.46597057e+00  8.56265650e-01\n",
            "  -2.36234254e+00 -3.73547703e+00  4.95282596e-02 -2.10923052e-01\n",
            "  -2.90912800e+00 -2.33290215e+00  1.52248752e+00  1.48791501e+00\n",
            "  -4.13498090e+00 -2.27268616e+00 -2.97313927e+00  3.47689519e-01\n",
            "  -4.08266391e+00 -1.93805452e+00 -2.47266391e+00 -1.79711210e+00\n",
            "  -2.84698945e+00 -2.24385224e+00 -2.93091108e+00 -2.01071939e+00\n",
            "  -3.19778593e+00 -1.59651801e+00 -1.67436943e+00 -2.84951635e+00\n",
            "  -1.66361709e+00 -2.39813527e+00 -4.34716445e-01  9.25867786e-01\n",
            "  -1.54384069e-01  8.76104455e-01 -1.86226192e+00 -3.24401380e+00\n",
            "  -4.76941729e-01 -2.11483641e+00 -2.43535141e+00 -2.44623939e+00\n",
            "  -2.78785281e+00  1.49657837e+00 -3.10132048e+00 -1.58929029e+00\n",
            "  -3.61986801e+00 -1.49480139e+00 -2.79801098e+00 -2.29219451e+00\n",
            "  -3.52218636e+00 -2.81049414e+00 -2.29185795e+00  1.06526260e+00\n",
            "  -3.33931008e+00 -2.78758109e+00  1.84947921e+00 -2.88574205e+00\n",
            "  -2.43024877e+00 -2.41347029e+00 -2.68611335e+00 -2.98952530e+00\n",
            "   2.24683602e+00 -2.95715269e+00 -3.04103655e-02 -2.49347304e+00\n",
            "  -2.00957021e+00 -3.08899226e+00  2.03283356e+00 -2.04916266e+00\n",
            "   1.65369691e+00 -4.00913706e+00 -2.05403809e+00 -9.46102721e-01\n",
            "  -1.54016038e+00 -2.48239499e+00  7.07494577e-01  4.85537833e-01\n",
            "  -3.15995970e-01 -2.56541097e+00 -2.33706431e+00 -2.64245066e+00\n",
            "  -1.72537317e+00 -3.49589507e+00 -2.62259314e+00 -3.44021819e+00\n",
            "  -2.87882541e+00 -2.25645100e+00 -2.76243308e+00 -2.65410131e+00\n",
            "   1.59798889e-01 -2.39185977e+00 -3.88397127e+00  2.04397206e+00\n",
            "  -2.94183065e+00 -1.94706408e+00  4.89753105e-02  3.24009717e-01\n",
            "  -3.17556910e-02 -2.29414239e-01  2.11952441e+00  1.67856722e+00\n",
            "   4.97467629e-01 -4.87189486e-01 -2.24186309e+00 -4.42139368e-02\n",
            "   1.63530982e+00  5.82451278e-01 -1.23501496e+00 -1.05437673e+00\n",
            "  -2.80373392e+00  1.45934551e+00  1.71030066e+00 -3.11816491e+00\n",
            "  -3.15903678e+00 -1.08783630e+00 -2.12135066e+00 -1.97827483e+00\n",
            "  -3.65140505e+00 -3.47843787e+00 -1.39052328e+00 -2.64049639e+00\n",
            "  -2.12741876e+00  6.71438907e-01 -3.10007820e+00  1.42106344e+00\n",
            "  -1.58999421e+00  1.26240011e+00 -2.35257972e+00 -2.56274760e+00\n",
            "  -3.18846482e+00 -3.95335145e+00 -7.24608628e-01 -1.86540041e+00\n",
            "  -2.83326117e+00 -1.22571018e+00 -2.19640076e+00  1.68455261e+00\n",
            "   1.62870684e+00 -3.29264768e+00  2.03905184e-01 -1.83498519e+00\n",
            "  -2.42677979e+00  1.09065142e+00  1.54444864e-01 -3.05353343e+00\n",
            "  -7.86098159e-01 -8.05914647e-01 -2.33850741e+00 -1.79651910e+00\n",
            "  -9.25161061e-01 -3.90891141e+00 -2.54438224e+00 -2.51441563e+00\n",
            "  -2.10615359e+00 -1.73609351e+00 -1.67454520e+00 -3.10958676e+00\n",
            "  -2.98771873e+00 -3.13048191e+00  2.20448203e+00 -2.40538419e+00\n",
            "   8.76826769e-01 -3.08655371e+00 -2.22930516e+00  9.65420591e-01\n",
            "  -2.35033449e+00  1.61334953e+00 -2.46078804e+00  2.79292806e-01\n",
            "  -1.46006237e+00 -2.43235644e+00 -3.18010544e-01 -1.56199936e+00\n",
            "   1.83102600e+00 -2.35394564e+00 -2.14338023e+00 -2.23103760e+00\n",
            "  -2.79157887e+00 -2.56613623e+00 -4.55966403e+00 -1.79241253e+00\n",
            "  -2.30715947e+00 -3.05892221e+00  2.83563079e+00  1.83827730e+00\n",
            "   1.04173541e+00 -3.61177287e+00  1.40689798e+00 -3.28645077e+00\n",
            "  -2.19092539e+00  4.05708777e+00 -2.73565294e+00 -2.69433692e+00\n",
            "   1.41625506e+00  1.66093878e+00 -4.58282056e+00 -2.99131775e+00\n",
            "   8.40908285e-01  1.65991214e+00 -2.62214256e+00  3.91922794e-01\n",
            "  -1.47368130e+00 -1.46018568e+00  1.02974760e+00  4.10497054e-01\n",
            "   8.88583451e-01 -1.86246129e-03 -3.00655648e+00 -3.10669321e+00\n",
            "  -1.04469116e+00 -3.01001166e+00  4.06872217e+00  1.32136910e+00\n",
            "  -2.24057875e+00 -1.47875404e+00 -2.83796100e+00 -3.03629152e+00\n",
            "  -1.90258286e+00 -3.56289767e+00 -2.01983666e+00  1.22783222e+00\n",
            "  -2.75668000e+00 -2.54012031e+00 -2.16165618e+00  1.54341295e+00\n",
            "   1.08845474e-01  1.44213504e-01 -2.32098696e+00 -1.82178302e+00\n",
            "  -2.91364118e+00 -3.14530588e+00  5.81145201e-01 -2.45817782e+00\n",
            "  -5.48584736e-01 -2.15528494e+00 -4.41552829e+00 -2.60210442e+00\n",
            "   7.08262905e-03 -1.62374787e+00 -2.23197116e+00 -1.88855087e+00\n",
            "   1.09787395e+00 -2.45702518e+00 -3.17969240e+00 -4.51882840e+00\n",
            "  -5.94704496e-01 -8.26847280e-01 -3.00464928e+00 -2.47234853e+00\n",
            "  -1.35299451e+00  1.51888410e+00 -3.17109231e+00 -1.44192881e+00\n",
            "  -2.61458777e+00  1.60769420e+00  1.84116744e+00 -3.84209926e+00\n",
            "   1.57938740e+00 -2.42189731e+00 -3.39960706e+00  6.96913889e-01\n",
            "  -1.14579020e-01 -3.09750928e+00 -5.71336384e-01 -3.32351152e+00\n",
            "  -2.03040865e+00  1.48345561e+00 -2.89320867e+00 -3.23236246e+00\n",
            "  -2.76063639e+00 -1.16955627e+00 -3.20772870e+00 -1.43282241e+00\n",
            "  -1.19180830e+00 -2.55531264e+00 -3.53444714e+00  1.71899705e+00\n",
            "   1.26351007e+00 -1.90561310e+00 -2.48806525e+00 -3.02456396e+00\n",
            "   2.26712372e+00  3.65690044e+00  1.70120205e+00 -1.71047486e+00\n",
            "   3.39522835e-01  6.26151356e-01 -1.62579795e+00 -3.30773192e+00\n",
            "  -1.48853520e+00  1.14253617e+00 -3.35447458e+00 -1.95090603e+00\n",
            "  -2.31522538e+00 -3.52640360e+00 -2.60175724e+00  1.11686390e+00\n",
            "  -3.09356890e+00 -3.84220493e-01 -4.46441589e+00 -1.84018079e+00\n",
            "   7.98208304e-01 -3.89718521e+00 -2.15349281e+00 -4.19893737e-01\n",
            "   1.21846625e+00 -1.99047870e+00 -2.77488230e+00 -9.03140160e-01\n",
            "  -1.90013564e+00 -1.51684008e+00  1.28408027e+00 -2.77289561e+00\n",
            "   1.08205716e+00 -2.46084063e+00 -2.23340628e+00 -1.04278224e+00\n",
            "  -3.51182361e+00 -3.11330987e+00 -1.68835897e+00  1.04213394e+00\n",
            "  -3.12722041e+00  1.71984586e+00 -1.08630028e+00 -2.99640191e+00\n",
            "  -2.35678204e+00 -2.19978959e+00  1.81394648e+00 -1.94244956e+00\n",
            "  -3.84344050e+00  2.04575087e+00 -2.75873472e+00 -1.02125648e+00\n",
            "  -1.37591195e+00 -1.64053805e+00  1.21233806e+00 -2.87205722e+00\n",
            "  -2.48994028e+00 -6.35158496e-01 -3.47259647e+00  1.42581774e+00\n",
            "  -1.24531911e-01 -2.44937626e+00  1.47725717e+00  1.52243657e+00\n",
            "   8.58617661e-01 -2.47699560e+00  1.24963128e+00 -2.98559374e+00\n",
            "   1.64504160e+00 -1.92171510e-01  1.55424873e+00  7.95793504e-02\n",
            "   1.23085029e+00  1.71659085e+00 -2.64392068e+00  2.11572683e+00\n",
            "   2.32080471e+00  1.87893594e+00 -3.03872450e+00 -4.57274153e-01\n",
            "  -6.66292529e-01 -2.41038183e+00 -3.09659370e+00  2.29034393e+00\n",
            "   1.53155127e+00 -2.10886310e+00 -2.69484259e+00 -3.35609407e+00\n",
            "  -8.46843929e-01 -1.90617688e+00 -4.26384994e+00 -3.62345786e+00\n",
            "   2.11544965e+00 -2.17103631e+00 -1.40126416e+00 -2.76278468e+00\n",
            "   1.76308408e+00 -1.74927632e+00  3.92471069e-01  1.54740507e-02\n",
            "  -2.16394133e+00  8.44561188e-01 -2.92722825e+00  1.36533499e+00\n",
            "  -3.41816141e+00 -2.38574034e+00 -1.46225773e+00 -2.56233612e+00\n",
            "  -2.33280157e+00 -2.74972904e+00 -3.44733693e+00 -2.58871789e+00\n",
            "  -2.10489434e+00 -4.27717240e+00 -2.93848356e+00  1.60711203e+00\n",
            "  -2.57490993e+00 -2.77614008e-01  2.05717730e+00  2.83625906e+00\n",
            "   1.53909192e+00 -6.54478048e-01  1.88161064e+00 -2.50152455e+00\n",
            "   5.83939489e-01 -2.62352926e+00 -3.03288581e+00 -2.15847503e+00\n",
            "   1.34843351e+00  1.76444918e+00  6.94348077e-01  1.35678682e+00\n",
            "   6.02817963e-01 -1.11437723e+00  2.47640938e+00  7.61221261e-01\n",
            "  -3.01393329e+00 -2.23370678e+00  1.25473632e+00  2.98018784e-01\n",
            "   1.69187402e+00 -3.28808381e+00 -2.16764159e+00 -6.40646896e-01\n",
            "  -1.86194805e+00 -2.37412082e+00  1.39818035e+00  4.97477376e-02\n",
            "  -4.92226163e-01 -2.35808767e+00  2.80711926e-01 -2.31831025e+00\n",
            "  -1.63638256e+00 -3.07926404e+00  1.61889165e-01 -2.98722265e+00\n",
            "   1.29730502e+00  1.57377269e+00 -1.59110537e+00 -2.25264175e+00\n",
            "  -1.67837864e+00  5.41612634e-01  2.31600591e+00 -5.37578361e-01\n",
            "  -2.61326621e+00 -2.76821144e+00 -2.44560888e+00 -1.87845120e+00\n",
            "   2.25541464e+00 -1.00067231e+00 -1.38294304e+00 -2.92990135e+00\n",
            "  -2.57673672e-01 -2.71004535e+00  1.77294701e+00  5.11600565e-01\n",
            "   1.57292901e+00 -3.66985770e-01 -2.83275878e+00 -2.74057266e+00\n",
            "  -5.79186764e-01 -3.29417811e+00 -1.39408852e+00 -2.37829628e+00\n",
            "   9.39932923e-01 -3.34336038e+00 -3.34075109e+00 -2.73178136e+00\n",
            "   1.45624361e+00 -9.63931041e-01 -2.93149435e+00  1.58778905e+00\n",
            "   1.92553214e-01 -3.08132134e+00 -2.74433401e+00 -3.32359764e+00\n",
            "  -2.19535057e+00 -1.96081636e+00  1.67894255e+00  1.37538764e+00\n",
            "   1.97981702e+00  1.48916436e+00  1.15315132e+00 -3.34342675e+00\n",
            "  -2.87580402e+00 -2.94679999e+00 -1.71999442e+00 -1.36517935e+00\n",
            "  -2.37879023e+00 -2.04393439e+00 -1.28239653e+00 -1.71490427e+00\n",
            "   8.53596090e-01 -3.07267258e+00 -5.04247463e+00  4.67707708e-01\n",
            "   1.58295572e-01  2.00464740e-01 -3.76549779e-01 -9.52705396e-01\n",
            "   2.03709868e+00 -2.81209483e+00  1.98725849e+00  1.54044385e+00\n",
            "  -3.28225254e+00  9.94132900e-01 -6.69715474e-01  8.48337303e-01\n",
            "  -2.14868361e+00 -3.87552403e+00 -4.03829273e-01  1.57966542e+00\n",
            "  -2.29542423e+00  1.51840250e+00  2.36658967e+00 -2.36996532e+00\n",
            "  -1.50783353e+00 -1.20994211e+00 -3.74855279e+00  2.48771850e+00\n",
            "   1.78845200e+00  2.17016210e+00 -1.73108682e+00 -5.41038978e-01\n",
            "  -2.04085481e+00 -5.27436662e-01 -1.36922010e+00 -1.98796521e-01\n",
            "  -2.71430347e+00 -3.91133281e+00  1.83724394e+00  1.76602875e+00\n",
            "  -2.81616057e+00  6.07119591e-01  1.52297077e+00 -2.96365890e+00\n",
            "  -5.67248264e-01 -3.33515010e+00 -2.81163844e+00 -3.06395473e+00\n",
            "  -2.32118984e+00 -7.34670969e-01  5.54189048e-01 -3.08192996e-01\n",
            "  -1.64054135e+00 -1.80837762e+00 -3.85912584e-01  1.29558955e+00\n",
            "  -9.83117665e-01 -2.20173255e+00 -1.04743597e+00 -2.87563021e+00\n",
            "  -3.40628614e+00 -2.21269701e+00 -3.24070383e+00 -2.61679840e+00\n",
            "   1.10834203e+00 -6.06051600e-01 -2.48572251e+00  2.15742244e+00\n",
            "  -3.53004134e+00 -2.97862806e+00 -2.31043766e+00 -8.56214399e-01\n",
            "   1.44204792e-01 -1.89942093e+00 -7.86929108e-01 -5.07812233e-01\n",
            "   1.50051637e+00  2.68782940e+00 -1.54571775e+00 -3.48293215e+00\n",
            "   1.12288362e+00 -1.60207506e+00 -1.10372710e+00  3.52693420e-02\n",
            "  -1.02446930e-01 -2.71718821e+00 -1.60013954e+00  1.48033660e+00\n",
            "  -1.01952602e+00 -1.06748770e+00  1.72293960e+00 -2.26727738e+00\n",
            "  -5.53795396e-01 -3.40146634e+00 -2.21534992e+00  1.58443692e+00\n",
            "   1.79540303e+00  1.85860921e+00 -2.85875728e+00 -2.50205532e+00\n",
            "  -2.89165457e+00  1.35766615e+00 -3.47903880e+00  1.86041048e+00\n",
            "   1.92090114e+00 -1.71797282e-01  7.16323523e-01  8.31439187e-01\n",
            "  -3.22166678e+00 -3.52490579e+00 -2.35529585e+00 -2.33238410e+00\n",
            "  -1.08872147e-01  2.35545981e+00 -2.13165579e-01 -1.97368357e+00\n",
            "  -2.02987834e+00 -1.43308100e+00 -1.67700327e+00  1.91751707e+00\n",
            "   2.22385229e+00  8.81261527e-01 -2.03373424e+00  1.67090405e+00\n",
            "  -3.09841879e+00 -9.92318073e-01 -8.24327239e-01 -2.87956226e+00\n",
            "   2.33802667e+00  5.87039516e-01  8.81845881e-01 -1.99693373e+00\n",
            "  -3.29345820e+00 -1.66183910e+00 -2.20849068e+00 -3.43880621e+00\n",
            "   1.89341892e+00 -2.77531391e+00 -1.54864904e+00 -3.65639482e+00\n",
            "  -2.73789401e+00  1.69247840e+00 -1.34421463e-01 -1.60947549e+00\n",
            "  -2.15658109e+00  4.76901213e-01 -2.85987400e+00 -1.00345698e+00\n",
            "   2.13099453e+00  6.27604565e-02 -2.96334257e+00 -2.17573745e+00\n",
            "  -2.67075466e+00 -1.66568806e+00  1.92058268e+00 -4.04323167e+00\n",
            "  -1.17273698e+00 -1.35977360e+00  8.91456926e-01 -1.63959337e+00\n",
            "  -5.29353741e-01  1.87221614e+00 -3.22394160e+00 -2.62942210e+00\n",
            "   2.08622013e+00  8.05236700e-01 -2.69159907e+00 -2.73027105e+00\n",
            "  -2.36805061e+00 -2.04513469e+00 -1.74284460e+00 -2.48559764e+00\n",
            "  -2.15874429e+00 -2.77069376e+00 -3.25848777e+00 -2.93553291e+00\n",
            "  -3.72580282e+00 -4.00936796e-01  6.12043356e-01  9.29736749e-01\n",
            "  -2.66178845e+00 -9.29301070e-01 -3.47971280e+00 -4.05310584e+00\n",
            "   1.27090833e+00 -1.89719036e+00  1.52996051e+00 -1.88419002e+00\n",
            "  -1.37977275e-01 -3.45865110e+00 -9.01642900e-01 -1.68106787e+00\n",
            "  -2.63467356e+00  7.10797567e-01  5.26529207e-01 -7.92921970e-01\n",
            "  -1.38546564e+00 -2.64603727e+00 -3.39096176e+00 -5.19211814e-01\n",
            "  -1.11838897e+00 -3.12199392e+00 -4.35230318e-01 -4.08240720e-01\n",
            "  -2.68322770e+00  5.82761697e-01 -2.74490957e-01  8.00844290e-02\n",
            "   2.15705900e-01 -3.21608060e+00 -2.77346428e+00 -3.64061815e+00\n",
            "  -1.65759607e+00 -2.54010227e+00 -3.40054612e+00  2.36771369e+00\n",
            "  -6.69663227e-01 -2.80897925e+00 -3.02977585e+00  2.11519265e+00\n",
            "  -2.39179988e+00 -9.88231641e-01 -3.31409384e+00 -3.26552467e+00\n",
            "  -1.66953878e+00 -1.46026747e+00 -3.30227779e+00 -8.50292329e-01\n",
            "  -1.55158800e+00 -4.02912144e+00 -1.82560642e+00  6.62563653e-01\n",
            "  -3.64506363e+00 -2.22198125e+00  1.40700502e-01 -1.92851372e+00\n",
            "  -2.15077607e+00  7.50613553e-01 -2.81687646e+00 -9.17105536e-01\n",
            "  -3.42589528e+00  2.72613080e+00 -2.08651482e+00 -1.65286879e+00\n",
            "  -2.53638062e+00 -3.84529078e-03 -1.71512426e+00 -5.65053518e-01\n",
            "  -2.83162984e-01  8.47268792e-01 -4.33933606e+00 -2.57237395e+00\n",
            "   1.47911386e+00 -2.77554189e+00 -1.39671752e+00 -2.15524286e+00\n",
            "  -1.71225051e+00 -4.68779444e+00 -2.34136208e+00 -1.85908818e+00\n",
            "  -1.92387271e+00  6.10833383e-01  1.73813666e+00  2.75727928e+00\n",
            "  -1.61661042e+00  5.28875056e-01 -3.33848802e+00 -4.55116485e-01\n",
            "  -1.83176215e+00 -7.76194080e-01 -1.61730563e+00 -4.34518679e+00\n",
            "  -3.56393999e+00 -1.44583585e+00 -2.37463131e+00 -2.35886985e+00\n",
            "  -5.00820582e+00 -2.31588023e+00 -2.46526335e+00  1.76269594e+00\n",
            "  -3.40541273e+00 -1.99331110e+00 -3.33449306e+00  1.61201622e+00\n",
            "  -3.07960771e+00  9.86738753e-01 -3.67838994e+00 -2.37018979e+00\n",
            "  -7.85752416e-01  5.60965202e-01 -2.57335357e+00 -2.60032216e+00\n",
            "  -1.67410513e+00  2.18293220e+00 -1.45330522e+00 -1.43502595e+00\n",
            "  -6.95275910e-01 -3.37208411e+00 -2.44797406e+00  8.33177720e-01\n",
            "  -2.94352997e+00 -1.26023370e+00 -3.49861806e+00 -1.32249638e+00\n",
            "   1.97823559e+00  7.90161093e-01 -1.70555891e+00 -3.23660584e+00\n",
            "   5.84285035e-01 -2.46055308e+00 -2.36376972e+00 -1.98210190e+00\n",
            "  -3.42728545e+00 -1.75276106e+00 -2.64282622e+00 -2.97556256e+00\n",
            "  -3.24884287e+00 -2.87549920e+00 -5.89011731e+00  2.75434500e+00\n",
            "  -1.04395184e+00 -1.66081215e+00 -9.13791410e-01  1.81970486e+00\n",
            "  -3.08935250e+00 -1.44289131e+00 -1.45488826e+00  2.24919994e+00\n",
            "   1.34313278e+00  5.82593566e-01 -2.49479706e+00  1.61821718e+00\n",
            "  -3.45876820e+00  1.27888598e+00 -3.01001733e+00 -1.56323523e+00\n",
            "   7.57236725e-01  1.75840280e+00 -3.70450564e+00 -1.18665784e+00\n",
            "  -1.55927155e+00  5.49235066e-01 -4.87876367e-02 -3.12001978e+00\n",
            "  -2.32300154e+00  1.02173944e+00  1.14094105e+00 -1.39990492e+00]]\n"
          ]
        }
      ],
      "source": [
        "print(np.array(decision).T)"
      ]
    },
    {
      "cell_type": "markdown",
      "metadata": {
        "id": "c0bKCboN4Zxu"
      },
      "source": [
        "<h2><font color='Geen'> 8F: Implementing Platt Scaling to find P(Y==1|X)</font></h2>"
      ]
    },
    {
      "cell_type": "markdown",
      "metadata": {
        "id": "nMn7OEN94Zxw"
      },
      "source": [
        "Check this <a href='https://drive.google.com/open?id=133odBinMOIVb_rh_GQxxsyMRyW-Zts7a'>PDF</a>\n",
        "<img src='https://i.imgur.com/CAMnVnh.png'>\n"
      ]
    },
    {
      "cell_type": "markdown",
      "metadata": {
        "id": "e0n5EFkx4Zxz"
      },
      "source": [
        "## TASK F"
      ]
    },
    {
      "cell_type": "markdown",
      "metadata": {
        "id": "t0HOqVJq4Zx1"
      },
      "source": [
        "\n",
        "> 4. Apply SGD algorithm with ($f_{cv}$, $y_{cv}$) and find the weight $W$ intercept $b$ ```Note: here our data is of one dimensional so we will have a one dimensional weight vector i.e W.shape (1,)``` \n",
        "\n",
        "> Note1: Don't forget to change the values of $y_{cv}$ as mentioned in the above image. you will calculate y+, y- based on data points in train data\n",
        "\n",
        "> Note2: the Sklearn's SGD algorithm doesn't support the real valued outputs, you need to use the code that was done in the `'Logistic Regression with SGD and L2'` Assignment after modifying loss function, and use same parameters that used in that assignment.\n",
        "<img src='https://i.imgur.com/zKYE9Oc.png'>\n",
        "if Y[i] is 1, it will be replaced with y+ value else it will replaced with y- value\n",
        "\n",
        "> 5. For a given data point from $X_{test}$, $P(Y=1|X) = \\frac{1}{1+exp(-(W*f_{test}+ b))}$ where ` `$f_{test}$ ```= decision_function(```$X_{test}$```)```, W and b will be learned as metioned in the above step"
      ]
    },
    {
      "cell_type": "markdown",
      "metadata": {
        "id": "oTY7z2bd4Zx2"
      },
      "source": [
        "__Note: in the above algorithm, the steps 2, 4 might need hyper parameter tuning, To reduce the complexity of the assignment we are excluding the hyerparameter tuning part, but intrested students can try that__"
      ]
    },
    {
      "cell_type": "markdown",
      "metadata": {
        "id": "CM3odN1Z4Zx3"
      },
      "source": [
        "\n",
        "If any one wants to try other calibration algorithm istonic regression also please check these tutorials\n",
        "\n",
        "1. http://fa.bianp.net/blog/tag/scikit-learn.html#fn:1\n",
        "\n",
        "2. https://drive.google.com/open?id=1MzmA7QaP58RDzocB0RBmRiWfl7Co_VJ7\n",
        "\n",
        "3. https://drive.google.com/open?id=133odBinMOIVb_rh_GQxxsyMRyW-Zts7a\n",
        "\n",
        "4. https://stat.fandom.com/wiki/Isotonic_regression#Pool_Adjacent_Violators_Algorithm\n"
      ]
    },
    {
      "cell_type": "markdown",
      "metadata": {
        "id": "i1TlTUiwJEWO"
      },
      "source": [
        "Start from start creating dataset"
      ]
    },
    {
      "cell_type": "code",
      "execution_count": 66,
      "metadata": {
        "id": "CxaaCDj7JROQ"
      },
      "outputs": [],
      "source": [
        "X, y = make_classification(n_samples=5000, n_features=5, n_redundant=2,\n",
        " n_classes=2, weights=[0.7], class_sep=0.7, random_state=15)"
      ]
    },
    {
      "cell_type": "code",
      "execution_count": 68,
      "metadata": {
        "id": "Yd_ABiQkJXxR"
      },
      "outputs": [],
      "source": [
        "x_train, x_test, y_train, y_test = train_test_split(X, y, test_size=0.20,random_state=15)"
      ]
    },
    {
      "cell_type": "code",
      "execution_count": 69,
      "metadata": {
        "id": "fZtSQKuxJdi8"
      },
      "outputs": [],
      "source": [
        "x_train, x_cv, y_train, y_cv = train_test_split(x_train,y_train, test_size=0.25,random_state=15)"
      ]
    },
    {
      "cell_type": "code",
      "execution_count": 70,
      "metadata": {
        "id": "ltSiqpgj-PC2"
      },
      "outputs": [],
      "source": [
        "rbf=SVC(kernel=\"rbf\",C=100,gamma=0.001)"
      ]
    },
    {
      "cell_type": "code",
      "execution_count": 71,
      "metadata": {
        "colab": {
          "base_uri": "https://localhost:8080/",
          "height": 0
        },
        "id": "Jk94Sqk2BFVi",
        "outputId": "40c32f68-cba9-451d-c5b5-3a40a4e78793"
      },
      "outputs": [
        {
          "output_type": "execute_result",
          "data": {
            "text/plain": [
              "SVC(C=100, gamma=0.001)"
            ]
          },
          "metadata": {},
          "execution_count": 71
        }
      ],
      "source": [
        "rbf.fit(x_train,y_train)"
      ]
    },
    {
      "cell_type": "code",
      "execution_count": 72,
      "metadata": {
        "id": "DdPvS7DIBOKu"
      },
      "outputs": [],
      "source": [
        "gamma=0.001"
      ]
    },
    {
      "cell_type": "code",
      "execution_count": 73,
      "metadata": {
        "id": "SZzSgpnVBTIp"
      },
      "outputs": [],
      "source": [
        "sup_vecs=rbf.support_vectors_\n",
        "dual_coefs=rbf.dual_coef_\n",
        "intercept=rbf.intercept_"
      ]
    },
    {
      "cell_type": "code",
      "execution_count": 74,
      "metadata": {
        "id": "nCO3W3wgBXnZ"
      },
      "outputs": [],
      "source": [
        "def decision_function(x_cv,gamma):\n",
        "    predict=[]\n",
        "    decision=[]\n",
        "    for xq in x_cv:\n",
        "        dec_func = 0\n",
        "        for j in range(len(sup_vecs)):\n",
        "            norm2 = np.linalg.norm(sup_vecs[j, :] -xq)**2 # calculating the kernel(K(xi,xq)\n",
        "            dec_func = dec_func + dual_coefs[0, j] * np.exp(-gamma*norm2) # calculating the sign\n",
        "        dec_func += intercept\n",
        "        decision.append(dec_func)\n",
        "        if (dec_func)<0: ##https://stackoverflow.com/questions/28503932/calculating-decision-function-of-svm-manually\n",
        "           predict.append(0)\n",
        "        else:\n",
        "           predict.append(1)\n",
        "    return np.array(decision) \n"
      ]
    },
    {
      "cell_type": "code",
      "execution_count": 75,
      "metadata": {
        "id": "iXnnnLb8CeK7"
      },
      "outputs": [],
      "source": [
        "f_cv=decision_function(x_cv,gamma) # calculating f_cv based on decision function"
      ]
    },
    {
      "cell_type": "code",
      "execution_count": 76,
      "metadata": {
        "id": "6bAnz0JNCo-z"
      },
      "outputs": [],
      "source": [
        "def sigmoid(w,x,b):\n",
        " return 1/(1+np.exp(-(np.dot(x,w.T)+b))) #return 1/1+e(-x)"
      ]
    },
    {
      "cell_type": "code",
      "execution_count": 77,
      "metadata": {
        "id": "g_LGVMsBCurL"
      },
      "outputs": [],
      "source": [
        "def logloss(w,x,y,b,reg=0):\n",
        " val=sigmoid(w,x,b)\n",
        " return -np.mean(y*np.log10(val)+(1-y)*np.log10(1-val))+reg # cost function of logistic regression"
      ]
    },
    {
      "cell_type": "code",
      "execution_count": 78,
      "metadata": {
        "id": "7yEle650ED11"
      },
      "outputs": [],
      "source": [
        "#As mentioned in Plat Calibration\n",
        "count_one=list(y_cv).count(1)\n",
        "count_zero=list(y_cv).count(0) # calculating y+ and y-\n",
        "y_plus=(count_one+1)/(count_one+2)\n",
        "y_minus=1/(count_zero+2)"
      ]
    },
    {
      "cell_type": "code",
      "execution_count": 79,
      "metadata": {
        "id": "bzo1qIX0GYoL"
      },
      "outputs": [],
      "source": [
        "## This function convert y_cv into y+,y-\n",
        "def update(y_cv,y_plus,y_minize):\n",
        " u_cv=[]\n",
        " for point in y_cv: \n",
        "     if point==1:\n",
        "        u_cv.append(y_plus)\n",
        "     else:\n",
        "        u_cv.append(y_minize)\n",
        " return(np.array(u_cv)) "
      ]
    },
    {
      "cell_type": "code",
      "execution_count": 80,
      "metadata": {
        "id": "F0cMn1xlGv6P"
      },
      "outputs": [],
      "source": [
        "y_cv=update(y_cv,y_plus,y_minus)"
      ]
    },
    {
      "cell_type": "code",
      "execution_count": 81,
      "metadata": {
        "colab": {
          "base_uri": "https://localhost:8080/",
          "height": 0
        },
        "id": "qQqP8SWeG4gn",
        "outputId": "d5644339-9561-424f-8f8c-3f95389e71ad"
      },
      "outputs": [
        {
          "output_type": "stream",
          "name": "stdout",
          "text": [
            "1000\n",
            "1000\n"
          ]
        }
      ],
      "source": [
        "#Initialize all\n",
        "w = np.zeros_like(f_cv[0])# initial weight vector\n",
        "b = 0 # initial intercept value\n",
        "eta0 = 0.0001 # learning rate\n",
        "alpha = 0.0001 # lambda value\n",
        "N = len(f_cv)\n",
        "print(len(y_cv))\n",
        "print(N)"
      ]
    },
    {
      "cell_type": "code",
      "execution_count": 82,
      "metadata": {
        "colab": {
          "base_uri": "https://localhost:8080/",
          "height": 0
        },
        "id": "XW7zcy-VHMM1",
        "outputId": "0fcdb19c-537c-4cf8-9c2f-1aa865f183df"
      },
      "outputs": [
        {
          "output_type": "stream",
          "name": "stdout",
          "text": [
            "Initial log loss = 0.3010299956639812\n"
          ]
        }
      ],
      "source": [
        "ini=logloss(w,f_cv,y_cv,b)\n",
        "print(\"Initial log loss =\",ini)"
      ]
    },
    {
      "cell_type": "markdown",
      "metadata": {
        "id": "EBi2uKVqHQ_Q"
      },
      "source": [
        "SGD alorithm for calculating optimal w and b"
      ]
    },
    {
      "cell_type": "code",
      "execution_count": 83,
      "metadata": {
        "id": "qCNtpESTHTEj"
      },
      "outputs": [],
      "source": [
        "def sgd_algo(f_cv,y_cv,eta0,alpha,w,b,epoch):\n",
        "    t=0.001 # tolerence\n",
        "    test_loss=[]\n",
        "    epoc=[]\n",
        "    for i in range(0,epoch):\n",
        "        epoc.append(i)\n",
        "        for j in range(0,N):\n",
        "            reg=alpha/2*np.dot(w.T,w) #regulrization term\n",
        "            w = ((1-eta0*(alpha/N))*w)+((eta0*f_cv[j])*(y_cv[j]-sigmoid(w,f_cv[j],b))) # updating weight vector\n",
        "            b = b+(eta0*(y_cv[j]-sigmoid(w,f_cv[j],b))) # updatind intercept\n",
        "        test=logloss(w,f_cv,y_cv,b,reg)\n",
        "        test_loss.append(test)\n",
        "        if i<=t :\n",
        "           continue\n",
        "\n",
        "           if abs(test_loss[i]-test_loss[i-1])>t: # block to check convergence\n",
        "              continue\n",
        "           else:\n",
        "              break\n",
        "    return w,b,epoc,test_loss"
      ]
    },
    {
      "cell_type": "code",
      "execution_count": 84,
      "metadata": {
        "colab": {
          "base_uri": "https://localhost:8080/",
          "height": 0
        },
        "id": "vqKz7AsBIKEc",
        "outputId": "9a3512a5-7e28-4f9e-ffde-4ef6d0b6558d"
      },
      "outputs": [
        {
          "output_type": "stream",
          "name": "stdout",
          "text": [
            "[0, 1, 2, 3, 4, 5, 6, 7, 8, 9, 10, 11, 12, 13, 14, 15, 16, 17, 18, 19, 20, 21, 22, 23, 24, 25, 26, 27, 28, 29, 30, 31, 32, 33, 34, 35, 36, 37, 38, 39, 40, 41, 42, 43, 44] [0.2663579424550975, 0.23962495439992312, 0.21877000031509722, 0.2022539777413285, 0.18896436040726172, 0.17810442204580987, 0.16910158455582394, 0.16154015264900567, 0.15511429245642008, 0.14959572379994837, 0.14481155991575648, 0.14062901162990205, 0.13694471967170885, 0.13367722263364418, 0.13076156895931007, 0.1281454116356454, 0.1257861409319977, 0.12364875306894009, 0.12170424716028726, 0.11992840597831064, 0.11830085884837209, 0.11680435423358757, 0.11542418981836151, 0.11414776207479688, 0.11296420733036411, 0.11186411353501861, 0.11083928711649357, 0.10988256310216038, 0.10898764947891951, 0.10814899883975262, 0.10736170192360428, 0.10662139883349814, 0.10592420461575049, 0.10526664657259265, 0.10464561121359803, 0.10405829916629496, 0.10350218669144044, 0.10297499270470489, 0.1024746504096923, 0.10199928280921092, 0.1015471814915648, 0.10111678819323805, 0.10070667872404722, 0.1003155489097174, 0.09994220226313176]\n",
            "optimal weight =  [1.14038548]\n",
            "optimal intercept =  -0.16232803221226857\n"
          ]
        }
      ],
      "source": [
        "epoch=45\n",
        "we,be,epo,loss=sgd_algo(f_cv,y_cv,eta0, alpha,w,b,epoch)\n",
        "print(epo,loss)\n",
        "print(\"optimal weight = \",we)\n",
        "print(\"optimal intercept = \",be)"
      ]
    },
    {
      "cell_type": "code",
      "source": [
        ""
      ],
      "metadata": {
        "id": "IyAsOZm7Gthn"
      },
      "execution_count": null,
      "outputs": []
    },
    {
      "cell_type": "code",
      "source": [
        ""
      ],
      "metadata": {
        "id": "TH91_QdbGtxO"
      },
      "execution_count": null,
      "outputs": []
    },
    {
      "cell_type": "code",
      "execution_count": 85,
      "metadata": {
        "colab": {
          "base_uri": "https://localhost:8080/",
          "height": 421
        },
        "id": "1ID4BZCKIRYI",
        "outputId": "a61511fc-0e59-48be-8daa-ea738aea4e82"
      },
      "outputs": [
        {
          "output_type": "execute_result",
          "data": {
            "text/plain": [
              "<matplotlib.legend.Legend at 0x7f9275c67c50>"
            ]
          },
          "metadata": {},
          "execution_count": 85
        },
        {
          "output_type": "display_data",
          "data": {
            "text/plain": [
              "<Figure size 576x432 with 1 Axes>"
            ],
            "image/png": "[encoded data removed]"
          },
          "metadata": {
            "needs_background": "light"
          }
        }
      ],
      "source": [
        "%matplotlib inline\n",
        "import matplotlib.pyplot as plt\n",
        "plt.figure(figsize=(8,6))\n",
        "plt.grid()\n",
        "plt.plot(epo,loss, label='test log loss')\n",
        "plt.scatter(epo,loss)\n",
        "plt.title('log loss curve of logistic regression')\n",
        "plt.xlabel('epoch number')\n",
        "plt.ylabel(\"log loss\")\n",
        "plt.legend()"
      ]
    },
    {
      "cell_type": "code",
      "execution_count": 86,
      "metadata": {
        "id": "svPh_wzXIadd"
      },
      "outputs": [],
      "source": [
        "ftest=decision_function(x_test,gamma)"
      ]
    },
    {
      "cell_type": "code",
      "execution_count": 87,
      "metadata": {
        "id": "bhzh8MoFIeCI"
      },
      "outputs": [],
      "source": [
        "def probability(ftest,w,b):\n",
        "  p=1/(1+np.exp(-w*ftest+b)) # to calculate probilty P(Y=1|X)\n",
        "  return p"
      ]
    },
    {
      "cell_type": "code",
      "execution_count": 88,
      "metadata": {
        "colab": {
          "base_uri": "https://localhost:8080/",
          "height": 0
        },
        "id": "POcSwaSqIofE",
        "outputId": "4bc36345-7d90-47e0-defb-819989b14a7f"
      },
      "outputs": [
        {
          "output_type": "stream",
          "name": "stdout",
          "text": [
            "[[0.23774793]\n",
            " [0.91674083]\n",
            " [0.26904252]\n",
            " [0.67529715]\n",
            " [0.00228871]\n",
            " [0.92508048]\n",
            " [0.18246605]\n",
            " [0.90426885]\n",
            " [0.18869581]\n",
            " [0.88038215]]\n"
          ]
        }
      ],
      "source": [
        "prob=probability(ftest,we,be)\n",
        "print(prob[:10])"
      ]
    }
  ],
  "metadata": {
    "colab": {
      "collapsed_sections": [],
      "name": "8E_F_LR_SVM.ipynb",
      "provenance": []
    },
    "kernelspec": {
      "display_name": "Python 3",
      "language": "python",
      "name": "python3"
    },
    "language_info": {
      "codemirror_mode": {
        "name": "ipython",
        "version": 3
      },
      "file_extension": ".py",
      "mimetype": "text/x-python",
      "name": "python",
      "nbconvert_exporter": "python",
      "pygments_lexer": "ipython3",
      "version": "3.6.8"
    }
  },
  "nbformat": 4,
  "nbformat_minor": 0
}